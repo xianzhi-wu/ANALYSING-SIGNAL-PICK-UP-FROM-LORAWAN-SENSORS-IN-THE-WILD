{
 "cells": [
  {
   "cell_type": "code",
   "execution_count": 2,
   "id": "2fb50a55-b141-4fa6-8c88-a227ed11a76a",
   "metadata": {},
   "outputs": [],
   "source": [
    "import pandas as pd\n",
    "\n",
    "# List of file names to concatenate\n",
    "file_list = ['loradata-5.csv', 'loradata-11.csv', 'loradata-12.csv', 'loradata-13.csv', 'loradata-15.csv', 'loradata-17.csv', 'loradata-19.csv', 'loradata-21.csv']\n",
    "\n",
    "# Create an empty list to store individual DataFrames\n",
    "dfs = []\n",
    "\n",
    "# Iterate over the file list and read each CSV file into a DataFrame\n",
    "for file in file_list:\n",
    "    df = pd.read_csv('data/' + file, dtype={'gatewayID': 'object'})\n",
    "    dfs.append(df)\n",
    "\n",
    "# Concatenate the DataFrames into a single DataFrame\n",
    "concatenated_df = pd.concat(dfs, ignore_index=True)\n",
    "\n",
    "# Save the concatenated DataFrame to a new CSV file\n",
    "concatenated_df.to_csv('data/loradata-aggregate.csv', index=False)"
   ]
  }
 ],
 "metadata": {
  "kernelspec": {
   "display_name": "Python 3 (ipykernel)",
   "language": "python",
   "name": "python3"
  },
  "language_info": {
   "codemirror_mode": {
    "name": "ipython",
    "version": 3
   },
   "file_extension": ".py",
   "mimetype": "text/x-python",
   "name": "python",
   "nbconvert_exporter": "python",
   "pygments_lexer": "ipython3",
   "version": "3.10.9"
  }
 },
 "nbformat": 4,
 "nbformat_minor": 5
}
