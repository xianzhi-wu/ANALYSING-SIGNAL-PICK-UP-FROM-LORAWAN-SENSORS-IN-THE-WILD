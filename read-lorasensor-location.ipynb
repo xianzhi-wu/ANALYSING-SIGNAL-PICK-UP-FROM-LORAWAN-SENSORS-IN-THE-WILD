{
 "cells": [
  {
   "cell_type": "code",
   "execution_count": 12,
   "id": "059ed770-5d9e-4f65-98f6-3f459514064d",
   "metadata": {},
   "outputs": [],
   "source": [
    "import json\n",
    "import os\n",
    "import sys\n",
    "import csv"
   ]
  },
  {
   "cell_type": "code",
   "execution_count": 13,
   "id": "c0a87d02-a90e-426b-8e4b-599557c7b4fd",
   "metadata": {},
   "outputs": [],
   "source": [
    "file_name = \"data/loc/20230613_lorasensor_location.txt\"\n",
    "file_desc = open(file_name, 'r')\n",
    "\n",
    "# Define the filename for the CSV file\n",
    "csv_filename = \"data/loc/20230613_lorasensor_location.csv\"\n",
    "\n",
    "# Write the joined string to a CSV file\n",
    "with open(csv_filename, \"w\", newline=\"\") as file:\n",
    "    writer = csv.writer(file)\n",
    "\n",
    "    for line in file_desc:\n",
    "        line = line.strip() # strip CR LF and trailing white space\n",
    "\n",
    "        '''\n",
    "        if line.startswith('[') or line.startswith(']'): # line is open or close of the array\n",
    "            continue\n",
    "\n",
    "        if '\"error\":' in line:\n",
    "            continue\n",
    "        '''\n",
    "\n",
    "        if line.endswith('pos_accuracy'):\n",
    "            writer.writerow(line.split(','))\n",
    "            continue\n",
    "        try:\n",
    "            li = line.split()\n",
    "            li[7] = li[7] + ' ' + li[8]\n",
    "            del li[8]\n",
    "            writer.writerow(li)\n",
    "        except Exception as e:\n",
    "            print('Exception:' + format(e))"
   ]
  },
  {
   "cell_type": "code",
   "execution_count": 14,
   "id": "88d4b28d-074f-4a64-9777-b627e6ec159a",
   "metadata": {},
   "outputs": [],
   "source": [
    "import pandas as pd"
   ]
  },
  {
   "cell_type": "code",
   "execution_count": 15,
   "id": "83b86a1b-20bb-449e-8907-8d6cd7490915",
   "metadata": {},
   "outputs": [],
   "source": [
    "df = pd.read_csv('data/loc/20230613_lorasensor_location.csv')\n",
    "\n",
    "# Split the values of the column by comma\n",
    "split_values = df['sensor_eui'].str.split(':')\n",
    "\n",
    "# Perform some operations on the split values\n",
    "# Here, we join the split values with a space\n",
    "joined_values = split_values.apply(lambda x: ''.join(x).upper())\n",
    "\n",
    "# Update the column in the original DataFrame\n",
    "df['devEUI'] = joined_values\n",
    "\n",
    "df[['location_id', 'devEUI', 'roomname']].to_csv('data/loc/devEUI_roomname.csv', index=False)"
   ]
  }
 ],
 "metadata": {
  "kernelspec": {
   "display_name": "Python 3 (ipykernel)",
   "language": "python",
   "name": "python3"
  },
  "language_info": {
   "codemirror_mode": {
    "name": "ipython",
    "version": 3
   },
   "file_extension": ".py",
   "mimetype": "text/x-python",
   "name": "python",
   "nbconvert_exporter": "python",
   "pygments_lexer": "ipython3",
   "version": "3.10.9"
  }
 },
 "nbformat": 4,
 "nbformat_minor": 5
}
