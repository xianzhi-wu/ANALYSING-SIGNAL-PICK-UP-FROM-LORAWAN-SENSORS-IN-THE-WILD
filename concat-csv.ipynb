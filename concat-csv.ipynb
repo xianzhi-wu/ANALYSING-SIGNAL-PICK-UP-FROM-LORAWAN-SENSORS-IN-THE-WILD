{
 "cells": [
  {
   "cell_type": "code",
   "execution_count": 2,
   "id": "5f65d1b4-1a20-4f76-b2ea-d252a611a88d",
   "metadata": {},
   "outputs": [
    {
     "name": "stdout",
     "output_type": "stream",
     "text": [
      "Concatenated data has been saved to data/csv/loradata-aggregate.csv\n"
     ]
    }
   ],
   "source": [
    "import os\n",
    "import pandas as pd\n",
    "\n",
    "# Directory containing the CSV files\n",
    "csv_dir = 'data/csv/'\n",
    "\n",
    "# List all CSV files in the directory\n",
    "file_list = [f for f in os.listdir(csv_dir) if f.endswith('.csv')]\n",
    "\n",
    "# Create an empty list to store individual DataFrames\n",
    "dfs = []\n",
    "\n",
    "# Iterate over the file list and read each CSV file into a DataFrame\n",
    "for file in file_list:\n",
    "    file_path = os.path.join(csv_dir, file)\n",
    "    df = pd.read_csv(file_path, dtype={'gatewayID': 'object'})\n",
    "    dfs.append(df)\n",
    "\n",
    "# Concatenate the DataFrames into a single DataFrame\n",
    "concatenated_df = pd.concat(dfs, ignore_index=True)\n",
    "\n",
    "# Save the concatenated DataFrame to a new CSV file\n",
    "output_file = 'data/csv/loradata-aggregate.csv'\n",
    "concatenated_df.to_csv(output_file, index=False)\n",
    "\n",
    "print(f\"Concatenated data has been saved to {output_file}\")"
   ]
  }
 ],
 "metadata": {
  "kernelspec": {
   "display_name": "Python 3 (ipykernel)",
   "language": "python",
   "name": "python3"
  },
  "language_info": {
   "codemirror_mode": {
    "name": "ipython",
    "version": 3
   },
   "file_extension": ".py",
   "mimetype": "text/x-python",
   "name": "python",
   "nbconvert_exporter": "python",
   "pygments_lexer": "ipython3",
   "version": "3.10.9"
  }
 },
 "nbformat": 4,
 "nbformat_minor": 5
}
